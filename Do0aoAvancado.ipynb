{
 "cells": [
  {
   "cell_type": "markdown",
   "id": "81f8b9da-18af-4031-83d4-f888648e00c0",
   "metadata": {},
   "source": [
    "## Fatiamento de String.\n",
    "* Em python uma variavel texto é \"contável\" mas como assim ? Cada letra tem um número que vai de 0 ao tamanho da variável, a contagem sempre começando do 0.\n",
    "* Utilizamos o nome da variável e após os \"[]\" e dentro ex: \"0:10\" que podemos indicar o ínicio que queremos obter e o fim.\n",
    "* Podemos usar um segundo \":\" para decidirmos de quantos em quantos será pulado. Ou seja ex: quero essa letra pulando de 2 em 2. "
   ]
  },
  {
   "cell_type": "code",
   "execution_count": 40,
   "id": "3b4871b4-41c4-4b2e-bf55-d4fc2a8f5fcd",
   "metadata": {},
   "outputs": [
    {
     "name": "stdout",
     "output_type": "stream",
     "text": [
      "Estamos ap\n",
      "------------------------------------------------\n",
      "s aprendendo python do básico ao a\n",
      "------------------------------------------------\n",
      "Etmsarned yhnd áioa vnao\n"
     ]
    }
   ],
   "source": [
    "frase = \"Estamos aprendendo python do básico ao avançado\"\n",
    "# Traga a frase do item 0 até o item 10:\n",
    "print(frase[0:10])\n",
    "print('------------------------------------------------')\n",
    "# Trafa a frase começando do item 7 até o 40: \n",
    "# uma observação se levarmos em conta que o 0 é contavel o item 7 seria o 6, prestar bastante atenção neste tipo de caso.\n",
    "print(frase[6:40])\n",
    "print('------------------------------------------------')\n",
    "# Traga a variavel do 0 ao final dela mas pulando de 2 em 2.\n",
    "print(frase[0::2])"
   ]
  },
  {
   "cell_type": "markdown",
   "id": "0d333afd-0fb0-4f9b-bb88-d2ba35f1f2dd",
   "metadata": {},
   "source": [
    "## Analisando uma String"
   ]
  },
  {
   "cell_type": "code",
   "execution_count": 123,
   "id": "56b8adfc-34e9-4d4c-b703-9e2110819433",
   "metadata": {},
   "outputs": [],
   "source": [
    "frase = \"estamos aprendendo python do básico ao avançado\""
   ]
  },
  {
   "cell_type": "code",
   "execution_count": 70,
   "id": "69e6cdf5-e254-4593-983e-6ac311e82bfa",
   "metadata": {},
   "outputs": [
    {
     "name": "stdout",
     "output_type": "stream",
     "text": [
      " Tamanho da variavel:  47\n",
      "------------------------------------------------\n",
      "Quantas vezes aparecem a letra o:  7\n",
      "------------------------------------------------\n",
      "Quantas vezes aparecem a letra a entre o item 6 e o item 40: 3\n"
     ]
    }
   ],
   "source": [
    "# Qual é o tamanho da variavel \"frase\" utilizada acima ? \n",
    "print(f' Tamanho da variavel:  {len(frase)}')\n",
    "print('------------------------------------------------')\n",
    "# Conte quantas vezes aparece a letra \"o\": \n",
    "print(f'Quantas vezes aparecem a letra o:  {frase.count(\"o\")}')\n",
    "print('------------------------------------------------')\n",
    "# Conte quantas vezes aparecem a letra a mas entre o item 6 e o item 40.\n",
    "print(f'Quantas vezes aparecem a letra a entre o item 6 e o item 40: {frase.count(\"a\", 6, 40 )}')"
   ]
  },
  {
   "cell_type": "code",
   "execution_count": 100,
   "id": "caababd2-584e-4a63-8704-65af4fbd5ee3",
   "metadata": {},
   "outputs": [
    {
     "name": "stdout",
     "output_type": "stream",
     "text": [
      "Posição: 14\n",
      "------------------------------------------------\n",
      "Posição: 39 \n",
      "------------------------------------------------\n",
      "Posição: True \n"
     ]
    }
   ],
   "source": [
    "# Procurar onde começa a palavra \"endo\", caso não tenha retorna -1. \n",
    "print(f'Posição: {frase.find(\"endo\")}')\n",
    "print('------------------------------------------------')\n",
    "# Procurar onde está a palavra \"avançado\": \n",
    "print(f'Posição: {frase.find(\"avançado\")} ')\n",
    "print('------------------------------------------------')\n",
    "# Podemos utilziar o \"in\" para verificar uma string mas o retorno é apenas True ou False. \n",
    "print(f'Posição: {\"python\" in frase} ')"
   ]
  },
  {
   "cell_type": "markdown",
   "id": "964e308d-7152-4256-9906-7709a6249d6d",
   "metadata": {},
   "source": [
    "## Transformação de String"
   ]
  },
  {
   "cell_type": "code",
   "execution_count": 129,
   "id": "407c5941-c39d-43a8-a692-68ca76b9998b",
   "metadata": {},
   "outputs": [
    {
     "name": "stdout",
     "output_type": "stream",
     "text": [
      "estamos aprendendo python do básico ao Analista\n",
      "------------------------------------------------\n",
      "estamos aprendendo python do básico ao avançado\n",
      "------------------------------------------------\n",
      "ESTAMOS APRENDENDO PYTHON DO BÁSICO AO AVANÇADO\n",
      "------------------------------------------------\n",
      "Estamos aprendendo python do básico ao avançado\n",
      "------------------------------------------------\n",
      "Estamos Aprendendo Python Do Básico Ao Avançado\n"
     ]
    }
   ],
   "source": [
    "# Substitua a string avançado por \"analista\"\n",
    "# Utilizamos o replace muito util para substituir, basta digitar o texto contido na frase e o proximo o que você deseja.\n",
    "print(f'{frase.replace(\"avançado\", \"Analista\")}')\n",
    "print('------------------------------------------------')\n",
    "\n",
    "# ABAIXO IREI MOSTRAR COMO TRANSFORMAR A FRASE TODA PARA MAIUSCULA OU MINISCULA \n",
    "# Transformar toda a frase para miniscula. \n",
    "print(frase.lower())\n",
    "print('------------------------------------------------')\n",
    "# Transformar a frase toda em maiuscula. \n",
    "print(frase.upper())\n",
    "print('------------------------------------------------')\n",
    "# Somente o primeiro caractere da frase em maiuscula. \n",
    "print(frase.capitalize())\n",
    "print('------------------------------------------------')\n",
    "# Colocando cada palavra em letra maiuscula.\n",
    "print(frase.title())"
   ]
  },
  {
   "cell_type": "markdown",
   "id": "722c132b-721b-497e-9d96-a5374385051e",
   "metadata": {},
   "source": [
    "## Removendo espaços inuteis de uma String. "
   ]
  },
  {
   "cell_type": "code",
   "execution_count": 132,
   "id": "37b9676d-38d6-42bc-be9c-b55e2e0b3c0c",
   "metadata": {},
   "outputs": [],
   "source": [
    "frase = \"  Curso de python do básico ao avançado  \""
   ]
  },
  {
   "cell_type": "code",
   "execution_count": 144,
   "id": "f2450f84-678a-4a68-a534-fbab52473677",
   "metadata": {},
   "outputs": [
    {
     "name": "stdout",
     "output_type": "stream",
     "text": [
      "Curso de python do básico ao avançado\n",
      "------------------------------------------------\n",
      "  Curso de python do básico ao avançado\n",
      "------------------------------------------------\n",
      "Curso de python do básico ao avançado  \n"
     ]
    }
   ],
   "source": [
    "# Percebe que temos no começo e no fim espaços que podem atrapalhar numa coleta de dados ou inserção ? \n",
    "# Então utilizamos o comando abaixo para remover os espaços inuteis. \n",
    "print(frase.strip())\n",
    "print('------------------------------------------------')\n",
    "# Remover espaços da direita ou seja o espaço do final da frase:\n",
    "print(frase.rstrip())\n",
    "print('------------------------------------------------')\n",
    "# Removendo os espaços da esquerda começo da frase: \n",
    "print(frase.lstrip())\n"
   ]
  },
  {
   "cell_type": "markdown",
   "id": "1f8d399f-8dc5-407e-bb3d-507ad40f6921",
   "metadata": {},
   "source": [
    "## Dividindo uma string "
   ]
  },
  {
   "cell_type": "code",
   "execution_count": 169,
   "id": "63c3bde1-31c6-41e4-bb38-aabf50ff608b",
   "metadata": {},
   "outputs": [],
   "source": [
    "frase = \"Curso de python do básico ao avançado\""
   ]
  },
  {
   "cell_type": "code",
   "execution_count": 179,
   "id": "59455da5-1bb0-45b0-86ab-80f0437560ba",
   "metadata": {},
   "outputs": [
    {
     "name": "stdout",
     "output_type": "stream",
     "text": [
      "['Curso', 'de', 'python', 'do', 'básico', 'ao', 'avançado']\n"
     ]
    },
    {
     "data": {
      "text/plain": [
       "7"
      ]
     },
     "execution_count": 179,
     "metadata": {},
     "output_type": "execute_result"
    }
   ],
   "source": [
    "# Esse comando divide a frase em uma lista começando do item 0 até o tamanho final.\n",
    "print(frase.split())\n",
    "# Salvando a frase dividida como formato de lista dentro da variavel palavras:\n",
    "palavras = frase.split()\n",
    "# Contando quantas palavras têm na variavel: \n",
    "quantidade_palavras = len(palavras)"
   ]
  },
  {
   "cell_type": "code",
   "execution_count": 199,
   "id": "1a29fafa-6a56-4bd0-9e17-3615692a6619",
   "metadata": {},
   "outputs": [
    {
     "name": "stdout",
     "output_type": "stream",
     "text": [
      "['31', '03', '1995']\n",
      "31 03 1995\n"
     ]
    }
   ],
   "source": [
    "# Separando uma variavel por caractere especifico. \n",
    "data = '31/03/1995' \n",
    "# Utilizamos o split junto do caractere desejado. \n",
    "print(f'{data.split(\"/\")}')\n",
    "data_separada = data.split(\"/\")\n",
    "dia = data_separada[0] \n",
    "mes = data_separada[1]\n",
    "ano = data_separada[2] \n",
    "print(dia, mes, ano)"
   ]
  },
  {
   "cell_type": "code",
   "execution_count": 205,
   "id": "9a9164b0-5a3b-4549-a0a3-77be2630c72d",
   "metadata": {},
   "outputs": [
    {
     "data": {
      "text/plain": [
       "'31-03-1995'"
      ]
     },
     "execution_count": 205,
     "metadata": {},
     "output_type": "execute_result"
    }
   ],
   "source": [
    "# Juntar a data separada por um caractere especifico: \n",
    "nova_data = '-'.join(data_separada)\n",
    "nova_data\n"
   ]
  },
  {
   "cell_type": "markdown",
   "id": "14552608-ad61-4fd6-b071-446e1f35f748",
   "metadata": {},
   "source": [
    "## Abaixo iremos utilizar o if, elif e else:"
   ]
  },
  {
   "cell_type": "markdown",
   "id": "9e377190-fac0-4da2-bfcb-4b9a62b503b1",
   "metadata": {},
   "source": [
    "## Python é uma linguagem de programaçaõ e é compilado e interpretado."
   ]
  },
  {
   "cell_type": "markdown",
   "id": "f7458b81-b14b-45b7-bd46-7a10c1c45675",
   "metadata": {},
   "source": [
    "## Oque é variável ? \n",
    "* Um espaço na memória que recebe um valor de algum tipo\n",
    "* Variáveis vazias são interpretadas como false.\n",
    "* None também é entendido como false."
   ]
  },
  {
   "cell_type": "markdown",
   "id": "16511faf-9dd6-4069-b6d0-4ce965ff2230",
   "metadata": {},
   "source": [
    "## Tipos de Dados\n",
    "* Str -> Texto\n",
    "* Int -> Números inteiros\n",
    "* flooat -> Números decimais.\n",
    "* bool -> True ou False. "
   ]
  },
  {
   "cell_type": "markdown",
   "id": "ce1f6c82-2b40-4c0a-b829-a118eaca7180",
   "metadata": {},
   "source": [
    "## Alguns pontos importantes. \n",
    "* Python é case Sensitive o que significa que nome é diferente de Nome. (Começo maiuscula)\n",
    "* Indentação, cuidado com os parenteses, aspas. "
   ]
  },
  {
   "cell_type": "markdown",
   "id": "186c1c3e-ccc2-4795-b2f8-e237ebfca0e4",
   "metadata": {},
   "source": [
    "# Mão NA MASSA "
   ]
  },
  {
   "cell_type": "markdown",
   "id": "5986ed76-a2ab-4005-ae0a-75af6c34ebe6",
   "metadata": {},
   "source": [
    "### Abaixo irei mostrar como funciona o IF, ELIF E ELSE com alguns exércicio. "
   ]
  },
  {
   "cell_type": "markdown",
   "id": "4b386cf1-d09a-4946-9fff-8ef014897032",
   "metadata": {},
   "source": [
    "## Exércicio 1: \n",
    "* Temos um trabalhador que deseja realizar um emprestimo, porém temos que decidir se o emprestimo será concedido ou não. O valor da prestação não pode ultrapassar 30% do seu salário. "
   ]
  },
  {
   "cell_type": "code",
   "execution_count": 41,
   "id": "656b1c7d-b5d7-40e9-b90d-3b784b602932",
   "metadata": {},
   "outputs": [
    {
     "name": "stdin",
     "output_type": "stream",
     "text": [
      "Digite o valor do salário:  1500\n",
      "Digite o valor do emprestimo:  2000\n",
      "Digite o número de parcelas:  10\n"
     ]
    }
   ],
   "source": [
    "# abaixo iremos coletar as informações necessárias, como salário, o valor que ele deseja emprestar e também o número de parcelas.\n",
    "# Prestem atenção no tipo de variavel, e como elas são declaradas, o \"input\" serve para recebermos algum dado, o qual será digitado.\n",
    "# dando valor para a nossa variavel. \n",
    "\n",
    "salario = float(input('Digite o valor do salário: '))\n",
    "emprestimo = float(input('Digite o valor do emprestimo: '))\n",
    "num_parcelas = int(input('Digite o número de parcelas: '))"
   ]
  },
  {
   "cell_type": "code",
   "execution_count": 43,
   "id": "cd33f6b0-42db-4a1d-a66a-ef77c9491e91",
   "metadata": {},
   "outputs": [],
   "source": [
    "# Aqui iremos realizar algumas contas necessárias. \n",
    "# Precisamos saber qual o valor da prestação, correto ? \n",
    "prestacao = emprestimo / num_parcelas\n",
    "\n",
    "# agora precisamos saber se o valor da prestação é igual a 30% do seu salario. \n",
    "salario_30 = (salario * 30) / 100 "
   ]
  },
  {
   "cell_type": "code",
   "execution_count": 47,
   "id": "9e718d68-e9ce-4dfa-a08c-37f1fa247764",
   "metadata": {},
   "outputs": [
    {
     "name": "stdout",
     "output_type": "stream",
     "text": [
      "então, emprestimo concedido\n",
      "valor da parcela: 200.0\n",
      "valor de 30% do salario: 450.0\n"
     ]
    }
   ],
   "source": [
    "# Aqui eu testo se 30% do salario é maior que a prestacao.  \n",
    "if salario_30 > prestacao: \n",
    "    print('então, emprestimo concedido') \n",
    "    print(f'valor da parcela: {prestacao}')\n",
    "    print(f'valor de 30% do salario: {salario_30}')\n",
    "# Utilizamos o elif apenas para criar um alerta para caso seja igual. \n",
    "elif salario_30 == prestacao:\n",
    "    print('Ficar atento valor da prestação é igual a 30% do salário.') \n",
    "# Caso nenhuma condição acima satisfaça ele irá descer aqui para o else, onde irá realizar os print's abaixo.\n",
    "else:        \n",
    "        print('Emprestimo NÃO CONCEDIDO') \n",
    "        print(f'Valor da parcela: {prestacao} ')\n",
    "        print(f'Valor de 30% do salário: {salario_30} ')"
   ]
  },
  {
   "cell_type": "markdown",
   "id": "c1a76ea2-4220-4f91-be0b-03f4d28d5c00",
   "metadata": {},
   "source": [
    "## Exércicio 2 "
   ]
  },
  {
   "cell_type": "markdown",
   "id": "3cd4c579-00b0-4b79-989c-ea59d89179b3",
   "metadata": {},
   "source": [
    "Uma empresa decidiu dar uma gratificação de natal a seus funcionários, baseada no número de horas extras e no número de horas que o funcionário faltou ao trabalho. O valor do prêmio é obtido pela consulta na tabela a seguir. Faça uma aplicação que receba o número de horas extras e o número de horas-falta de um funcionário e imprima o valor da sua gratificação.\n",
    "\n",
    "Tabela. \n",
    "\n",
    "             Gratificação \n",
    "             \n",
    " Horas maior que  2400  = 500$  // \n",
    " Horas >= 1801 = 400$ // \n",
    " Horas >= 1201 = 300$ //\n",
    " Horas >= 600  = 200$ //  \n",
    " Horas < 600  = 100$ //"
   ]
  },
  {
   "cell_type": "code",
   "execution_count": 101,
   "id": "06c13994-c88d-40f6-ae16-aa38a0fae844",
   "metadata": {},
   "outputs": [
    {
     "name": "stdin",
     "output_type": "stream",
     "text": [
      "Insira quantas horas extra você possui:  0\n",
      "Insira quantas horas você faltou:  1\n"
     ]
    }
   ],
   "source": [
    "# Aqui iremos coletar os dados do funcionario: \n",
    "total_horas_extra = float(input('Insira quantas horas extra você possui: ')) \n",
    "total_horas_falta = float(input('Insira quantas horas você faltou: ')) \n",
    "\n",
    "# Variavel que faz a conta do total de hora extra que ele tem - o total de horas que ele faltou. \n",
    "horas_a_receber = total_horas_extra - total_horas_falta"
   ]
  },
  {
   "cell_type": "code",
   "execution_count": 107,
   "id": "65c5248e-ec60-45b3-8ac7-a9e4a07bb240",
   "metadata": {},
   "outputs": [
    {
     "name": "stdout",
     "output_type": "stream",
     "text": [
      "total horas extra 0.0\n",
      "Total horas falta 1.0\n",
      "Horas a receber -1.0\n"
     ]
    }
   ],
   "source": [
    "# Realizo um print para verificar o que há em cada variável. \n",
    "print(f'total horas extra {total_horas_extra}')\n",
    "print(f'Total horas falta {total_horas_falta}')\n",
    "print(f'Horas a receber {horas_a_receber}')"
   ]
  },
  {
   "cell_type": "code",
   "execution_count": 109,
   "id": "397ee7d8-bbd9-42ac-90d1-5598c3d9e89a",
   "metadata": {},
   "outputs": [
    {
     "name": "stdout",
     "output_type": "stream",
     "text": [
      "Procure o responsável, você não tem direitos a receber\n"
     ]
    }
   ],
   "source": [
    "# Realizo o teste de acordo com a tabela de valores. \n",
    "# Pessoal o if elif e else são executados na sequência, primeiro o if, depois o elif e por fim o else. \n",
    "# Ele testa a variavel em ordem do código e trás a informação de onde a variavel foi satisfeita.\n",
    "if horas_a_receber > 2400:\n",
    "    print(f'Você tem direito a 500$ de gratificação')\n",
    "elif horas_a_receber >=1801:\n",
    "    print(f'Você tem direito a 400$ de gratificação')\n",
    "elif horas_a_receber >= 1201:\n",
    "    print(f'Você tem direito a 300$ de gratificação')\n",
    "elif horas_a_receber >= 600:\n",
    "    print(f'Você tem direito a 200$ de gratificação')\n",
    "elif horas_a_receber < 600 and horas_a_receber > 0: \n",
    "    print(f'Você tem direito a 100$ de gratificação')\n",
    "else:\n",
    "    print('Procure o responsável, você não tem direitos a receber')"
   ]
  },
  {
   "cell_type": "markdown",
   "id": "a2bcb5e8-23cf-4d04-b63b-2c82f9c82dd2",
   "metadata": {},
   "source": [
    "# Laços de Repetição "
   ]
  },
  {
   "cell_type": "markdown",
   "id": "8236b661-1509-4458-9480-2e580f8d9d5f",
   "metadata": {},
   "source": [
    "## Laço de repetição For\n",
    "* Podemos utilizar ranges\n",
    "* Realizar o range invertidamente.\n",
    "* Muito utilizado quando sabemos o tamanho ou o limite de algo que desejamos percorrer."
   ]
  },
  {
   "cell_type": "code",
   "execution_count": 152,
   "id": "2528f04c-5cbc-4968-a9b2-931cb653bac5",
   "metadata": {},
   "outputs": [
    {
     "name": "stdout",
     "output_type": "stream",
     "text": [
      "0\n",
      "2\n",
      "4\n",
      "6\n",
      "8\n"
     ]
    }
   ],
   "source": [
    "# x é um valor que queremos que retorne, uma representatividade do que está percorrendo no range ou uma lista por exemplo. \n",
    "# o primeiro do range é de onde eu deseje que comece. \n",
    "# o segundo é até onde eu quer que percorra, lembrando que sempre 1 a menos. \n",
    "# e o terceiro é opcional, você quer que percorra pulando de 2 em 2 ? ou 10 em 10 ? \n",
    "for x in range(0, 10, 2):\n",
    "    print(x) \n"
   ]
  },
  {
   "cell_type": "code",
   "execution_count": 150,
   "id": "bb64789d-981b-47d2-a4bf-4528c11430ce",
   "metadata": {},
   "outputs": [
    {
     "name": "stdout",
     "output_type": "stream",
     "text": [
      "0\n",
      "1\n",
      "2\n",
      "3\n",
      "4\n"
     ]
    }
   ],
   "source": [
    "# Podemos utilizar também para percorrer uma lista e sabermos o tamanho utilizando o len dentro do range.\n",
    "x = ['jose', 10, '200', 'print', 20]\n",
    "for x in range(len(x)):\n",
    "    print(x) \n"
   ]
  },
  {
   "cell_type": "code",
   "execution_count": 172,
   "id": "f3802c91-df09-4460-b87d-2d79dd04f28a",
   "metadata": {},
   "outputs": [
    {
     "name": "stdout",
     "output_type": "stream",
     "text": [
      "10\n",
      "9\n",
      "8\n",
      "7\n",
      "6\n",
      "5\n",
      "4\n",
      "3\n",
      "2\n"
     ]
    }
   ],
   "source": [
    "# Podemos também contar invertidamente utilizando o -1\n",
    "for x in range(10, 1, -1):\n",
    "    print(x)"
   ]
  },
  {
   "cell_type": "markdown",
   "id": "e41276c8-0237-475c-98bb-95242a974a94",
   "metadata": {},
   "source": [
    "# Laço de repetição While\n",
    "* Muito utilizado quando não sabemos o limit importante !!"
   ]
  },
  {
   "cell_type": "code",
   "execution_count": 180,
   "id": "c95b3225-494c-4b53-b771-671f10722072",
   "metadata": {},
   "outputs": [
    {
     "name": "stdout",
     "output_type": "stream",
     "text": [
      "Acrescentando 1 número ao x\n",
      "x = 1\n",
      "Acrescentando 1 número ao x\n",
      "x = 2\n",
      "Acrescentando 1 número ao x\n",
      "x = 3\n",
      "Acrescentando 1 número ao x\n",
      "x = 4\n",
      "Acrescentando 1 número ao x\n",
      "x = 5\n",
      "Acrescentando 1 número ao x\n",
      "x = 6\n",
      "Acrescentando 1 número ao x\n",
      "x = 7\n",
      "Acrescentando 1 número ao x\n",
      "x = 8\n",
      "Acrescentando 1 número ao x\n",
      "x = 9\n",
      "Acrescentando 1 número ao x\n",
      "x = 10\n"
     ]
    }
   ],
   "source": [
    "x = 0 \n",
    "while x < 10:\n",
    "    print('Acrescentando 1 número ao x')\n",
    "    x += 1\n",
    "    print(f'x = {x}') \n",
    "    "
   ]
  },
  {
   "cell_type": "markdown",
   "id": "933fe520-17d9-4c37-b251-e2f3208d82cb",
   "metadata": {},
   "source": [
    "# VARIÁVEIS COMPLEXAS !!\n",
    "* Várias informações dentro de um dado.\n",
    "* Listas, Dicionários, Tuplas."
   ]
  },
  {
   "cell_type": "markdown",
   "id": "e7c5b00d-34f5-40c6-a47b-6e58d042e7bf",
   "metadata": {},
   "source": [
    "## Listas"
   ]
  },
  {
   "cell_type": "markdown",
   "id": "58b42d57-b737-4ffc-8dc3-8799f3e414ca",
   "metadata": {},
   "source": [
    "*  Lista é ordenada, pode ser alterada ('mutável') ou seja podemos inserir mais dados durante o processo. \n",
    "* É representada pelos por \"[]\" ou \"variavel = list()\"\n"
   ]
  },
  {
   "cell_type": "code",
   "execution_count": 238,
   "id": "93dba897-e245-4904-9364-78d26b730cd6",
   "metadata": {},
   "outputs": [],
   "source": [
    "exemplo_lista = ['José', 29, 'Solteiro']"
   ]
  },
  {
   "cell_type": "code",
   "execution_count": 240,
   "id": "b23e9dfa-e53a-4b5b-872f-2325aaabad83",
   "metadata": {},
   "outputs": [
    {
     "data": {
      "text/plain": [
       "'José'"
      ]
     },
     "execution_count": 240,
     "metadata": {},
     "output_type": "execute_result"
    }
   ],
   "source": [
    "# Aqui um exemplo de como é feita uma lista, a ordenação funciona de 0 ao infinito onde o ultimo elemento é \"-1\" e o primeiro é \"0\". \n",
    "exemplo_lista[0]"
   ]
  },
  {
   "cell_type": "code",
   "execution_count": 242,
   "id": "ed8c7ff0-bf7b-44c9-bc36-f93d4b7c43c9",
   "metadata": {
    "jp-MarkdownHeadingCollapsed": true
   },
   "outputs": [
    {
     "name": "stdout",
     "output_type": "stream",
     "text": [
      "['José', 29, 'Solteiro', 'Análista de Dados']\n",
      "----------------------------------------------------------\n",
      "['Guilherme', 'José', 29, 'Solteiro', 'Análista de Dados']\n",
      "----------------------------------------------------------\n",
      "['Guilherme', 29, 'Solteiro', 'Análista de Dados']\n",
      "----------------------------------------------------------\n",
      "['Guilherme', 29, 'Solteiro']\n",
      "----------------------------------------------------------\n",
      "['Guilherme', 'Solteiro']\n",
      "----------------------------------------------------------\n",
      "2\n",
      "----------------------------------------------------------\n"
     ]
    }
   ],
   "source": [
    "# Adicionar um elemento na lista\n",
    "exemplo_lista.append('Análista de Dados')\n",
    "print(exemplo_lista)\n",
    "print('----------------------------------------------------------')\n",
    "# Adicionando um elemento em uma posição especifica. \n",
    "exemplo_lista.insert(0,'Guilherme')\n",
    "print(exemplo_lista)\n",
    "print('----------------------------------------------------------')\n",
    "# Apagando um elemento da lista: \n",
    "del(exemplo_lista[1])\n",
    "print(exemplo_lista)\n",
    "print('----------------------------------------------------------')\n",
    "# Outra forma de apagar um elemento da lista: \n",
    "exemplo_lista.pop(3)\n",
    "print(exemplo_lista)\n",
    "print('----------------------------------------------------------')\n",
    "# Mais uma forma para apagar algo da lista: \n",
    "exemplo_lista.remove(29) \n",
    "print(exemplo_lista)\n",
    "print('----------------------------------------------------------')\n",
    "# Contar o tamanho de uma lista: \n",
    "print(len(exemplo_lista)) \n",
    "print('----------------------------------------------------------')"
   ]
  },
  {
   "cell_type": "code",
   "execution_count": null,
   "id": "48207912-69d6-43ee-a075-3f9a2df3ee58",
   "metadata": {},
   "outputs": [],
   "source": []
  },
  {
   "cell_type": "code",
   "execution_count": 244,
   "id": "55fbefe0-3a07-41b8-9c66-71514bc1e352",
   "metadata": {},
   "outputs": [
    {
     "data": {
      "text/plain": [
       "[['Guilherme', 'Solteiro']]"
      ]
     },
     "execution_count": 244,
     "metadata": {},
     "output_type": "execute_result"
    }
   ],
   "source": [
    "# Um ponto importante sobre lista se você igualar uma lista a outra elas terão conexão entre si. Ou seja, se você apagar um arquivo de uma lista, irá apagar também da outra.\n",
    "# O ideal para se copiar uma lista seria assim: \n",
    "lista_nova = exemplo_lista[:]\n",
    "\n",
    "# Outra forma seria: \n",
    "lista3 = list()\n",
    "lista3.append(lista_nova[:])\n",
    "lista3"
   ]
  },
  {
   "cell_type": "markdown",
   "id": "5ae30f46-cf42-4a94-8bf9-1970fdc2576d",
   "metadata": {},
   "source": [
    "# Dicionários\n",
    "* É possível personalizar os itens. \n",
    "* É representado por \"{}\" ou \"variável = dict()\"\n",
    "* É representado por chave e valor."
   ]
  },
  {
   "cell_type": "code",
   "execution_count": 353,
   "id": "232fa368-f4c3-47eb-9136-0658a188f220",
   "metadata": {},
   "outputs": [],
   "source": [
    "dados = dict() "
   ]
  },
  {
   "cell_type": "code",
   "execution_count": 355,
   "id": "a840c280-8e79-4722-bfd4-082ccebda20e",
   "metadata": {},
   "outputs": [
    {
     "data": {
      "text/plain": [
       "{'nome': 'José', 'idade': 29}"
      ]
     },
     "execution_count": 355,
     "metadata": {},
     "output_type": "execute_result"
    }
   ],
   "source": [
    "dados = {'nome': 'José', 'idade': 29} \n",
    "dados"
   ]
  },
  {
   "cell_type": "code",
   "execution_count": 357,
   "id": "56a1a852-43e3-47c5-bc26-84bdad8d4641",
   "metadata": {},
   "outputs": [
    {
     "name": "stdout",
     "output_type": "stream",
     "text": [
      "{'nome': 'José', 'idade': 29, 'sexo': 'M'}\n",
      "----------------------------------------------------------\n",
      "{'nome': 'José', 'sexo': 'M'}\n"
     ]
    }
   ],
   "source": [
    "# Como inserir um elemento dentro do dicionário:  \n",
    "dados['sexo'] = 'M'\n",
    "print(dados)\n",
    "print('----------------------------------------------------------')\n",
    "# Remover um elemento dentro do dicionário: \n",
    "del dados['idade']\n",
    "print(dados)"
   ]
  },
  {
   "cell_type": "code",
   "execution_count": 359,
   "id": "99dd9ef5-9886-4426-b3b4-1beaafa624d2",
   "metadata": {},
   "outputs": [
    {
     "name": "stdout",
     "output_type": "stream",
     "text": [
      "dict_keys(['titulo', 'ano', 'autor'])\n",
      "----------------------------------------------------------\n",
      "dict_values(['Rock IV', '1986', 'Sylvester Stallone'])\n",
      "----------------------------------------------------------\n",
      "dict_items([('titulo', 'Rock IV'), ('ano', '1986'), ('autor', 'Sylvester Stallone')])\n"
     ]
    }
   ],
   "source": [
    "filme = { \n",
    "'titulo': 'Rock IV', \n",
    "'ano': '1986', \n",
    "'autor': 'Sylvester Stallone'\n",
    "}\n",
    "# Visualizar as chaves do dicionário: \n",
    "print(filme.keys())\n",
    "print('----------------------------------------------------------')\n",
    "# Visualizar os valores das chaves: \n",
    "print(filme.values())\n",
    "print('----------------------------------------------------------')\n",
    "# Visualizar o dicionário completo: \n",
    "print(filme.items())\n"
   ]
  },
  {
   "cell_type": "code",
   "execution_count": 361,
   "id": "57ff847e-3e59-464a-8ae8-cfb314b19688",
   "metadata": {},
   "outputs": [],
   "source": [
    "filmes_rock = [] \n",
    "rock1 = {'Nome':'Rock1', 'Ano':'1977', 'Autor':'Sylvester Stallone'} \n",
    "rock2 = {'Nome':'Rock2', 'Ano':'1979', 'Autor':'Sylvester Stallone'} "
   ]
  },
  {
   "cell_type": "code",
   "execution_count": 363,
   "id": "a52399ac-35bb-4680-ad4f-d928cd3b8e17",
   "metadata": {},
   "outputs": [],
   "source": [
    "# Incluir dicionários dentro de uma lista. \n",
    "filmes_rock.append(rock1)\n",
    "filmes_rock.append(rock2)"
   ]
  },
  {
   "cell_type": "code",
   "execution_count": 365,
   "id": "6bf8be86-04b2-40c5-b84b-26e5f442141c",
   "metadata": {},
   "outputs": [
    {
     "name": "stdout",
     "output_type": "stream",
     "text": [
      "filme na posição 0\n",
      "{'Nome': 'Rock1', 'Ano': '1977', 'Autor': 'Sylvester Stallone'}\n",
      "filme na posição 1\n",
      "{'Nome': 'Rock2', 'Ano': '1979', 'Autor': 'Sylvester Stallone'}\n"
     ]
    }
   ],
   "source": [
    "# Você pode visualizar os elementos da lista de acordo com cada dict dentro da lista.\n",
    "print('filme na posição 0')\n",
    "print(filmes_rock[0])\n",
    "print('filme na posição 1')\n",
    "print(filmes_rock[1])"
   ]
  },
  {
   "cell_type": "markdown",
   "id": "80180734-25c4-4341-8eb4-04362eeeb087",
   "metadata": {},
   "source": [
    "# Tuplas \n",
    "* São imutáveis ou seja não podemos altera-las, uma vez criada não podemos inserir ou remover itens.\n",
    "* É representada por \"()\" ou variável = () "
   ]
  },
  {
   "cell_type": "code",
   "execution_count": 368,
   "id": "137eb7d8-174a-4808-8365-700386397b29",
   "metadata": {},
   "outputs": [],
   "source": [
    "estados = ()\n",
    "estados = ('São Paulo', 'Rio de Janeiro', 'Minas Gerais', 'Santa Catarina', 'Amazonas', 5, 'Amazonas') "
   ]
  },
  {
   "cell_type": "code",
   "execution_count": 372,
   "id": "eb1934ca-b510-4deb-942d-ef3063b277f4",
   "metadata": {},
   "outputs": [
    {
     "name": "stdout",
     "output_type": "stream",
     "text": [
      "7\n"
     ]
    }
   ],
   "source": [
    "# Contas quantos objetos há dentro de uma tupla.  \n",
    "print(len(estados))"
   ]
  },
  {
   "cell_type": "code",
   "execution_count": 374,
   "id": "cffcbf51-a685-4f4b-93a9-67723edebe73",
   "metadata": {},
   "outputs": [
    {
     "name": "stdout",
     "output_type": "stream",
     "text": [
      "2\n",
      "----------------------------------------------------------\n",
      "4\n"
     ]
    }
   ],
   "source": [
    "# Como contar quantas vezez uma variável aparece na minha tupla: \n",
    "print(estados.count('Amazonas'))\n",
    "print('----------------------------------------------------------')\n",
    "# Index ou seja, qual possição está o item mencionado ? \n",
    "print(estados.index('Amazonas'))\n"
   ]
  },
  {
   "cell_type": "code",
   "execution_count": 376,
   "id": "de5a300a-20f7-4733-844c-ced046d235ae",
   "metadata": {},
   "outputs": [],
   "source": [
    "# Como apagar uma tupla ? \n",
    "del(estados)"
   ]
  },
  {
   "cell_type": "markdown",
   "id": "844b12f5-7cce-42fd-a212-c521de3ba157",
   "metadata": {},
   "source": [
    "# Funções \n",
    "* Blocos de código que são executáveis e possuem um nome.\n",
    "* Quase tudo que se repete pode ser uma função\n",
    "* Pode ou não ter argumentos\n",
    "* Return None -> Quando você não precisa retornar nada. "
   ]
  },
  {
   "cell_type": "markdown",
   "id": "8ee88a04-f7dc-4ba9-9e8d-829486c2a9bd",
   "metadata": {},
   "source": [
    "### Como declarar uma função ?\n",
    "* Utilizamos o \"def\" nome da função(): \n"
   ]
  },
  {
   "cell_type": "code",
   "execution_count": 6,
   "id": "f5d5b5e3-6f9f-4d66-8ccc-fb6b85d6ca6e",
   "metadata": {},
   "outputs": [],
   "source": [
    "def somar(valor1, valor2):\n",
    "    return valor1 + valor2"
   ]
  },
  {
   "cell_type": "markdown",
   "id": "3a673559-aaa4-466c-a171-e9dcef0441d6",
   "metadata": {},
   "source": [
    "### Para chamarmos uma função, podemos salvar o resultado em uma variavel ou simplesmente chama-la inserindos os valores do padrão de criação da função."
   ]
  },
  {
   "cell_type": "code",
   "execution_count": 16,
   "id": "38a879e9-1b57-46df-ac47-277a7531841a",
   "metadata": {},
   "outputs": [
    {
     "name": "stdout",
     "output_type": "stream",
     "text": [
      "30\n"
     ]
    },
    {
     "data": {
      "text/plain": [
       "120"
      ]
     },
     "execution_count": 16,
     "metadata": {},
     "output_type": "execute_result"
    }
   ],
   "source": [
    "print(somar(10, 20))\n",
    "# ou \n",
    "resultado_soma = somar(20, 100)\n",
    "resultado_soma"
   ]
  },
  {
   "cell_type": "code",
   "execution_count": 50,
   "id": "27be2a4a-7567-4119-9bad-c14505e100c2",
   "metadata": {},
   "outputs": [],
   "source": [
    "nome = 'jose guilherme' \n",
    "def pri_maiuscula(x):\n",
    "    return x.capitalize()"
   ]
  },
  {
   "cell_type": "code",
   "execution_count": 48,
   "id": "9da14892-0dac-479d-919d-719014cb7c3c",
   "metadata": {},
   "outputs": [
    {
     "data": {
      "text/plain": [
       "'Jose guilherme'"
      ]
     },
     "execution_count": 48,
     "metadata": {},
     "output_type": "execute_result"
    }
   ],
   "source": [
    "pri_maiuscula(nome)"
   ]
  },
  {
   "cell_type": "code",
   "execution_count": 54,
   "id": "9f125c45-13f0-4d19-ab05-f7e5166282ef",
   "metadata": {},
   "outputs": [],
   "source": [
    "#EMPACOTAR PARAMETROS !!\n",
    "\n",
    "#def contador(*núm):   # DIFERENCIAL !! USAR *NÚM para que você não precisa marcar os parâmetros corretamentes igual o exemplo acima.\n",
    "#       *núm -> após especificar este parâmetro, você pode inserir quantos parâmetros quiser na chamada de função."
   ]
  },
  {
   "cell_type": "code",
   "execution_count": 32,
   "id": "15c01bac-8333-486e-a4c5-089abca3dfca",
   "metadata": {},
   "outputs": [],
   "source": [
    "def teste(*núm):\n",
    "    somados = 0\n",
    "    for x in núm:\n",
    "        somados += x\n",
    "        print(x)\n",
    "    print(f' Tamanho da Lista:  {len(núm)} ')\n",
    "    print(f'Soma dos valores: {somados} ')\n",
    "    "
   ]
  },
  {
   "cell_type": "code",
   "execution_count": 34,
   "id": "d830f1ed-8fec-4786-8ffd-b7b21f36127e",
   "metadata": {},
   "outputs": [
    {
     "name": "stdout",
     "output_type": "stream",
     "text": [
      "10\n",
      "100\n",
      "550\n",
      "1670\n",
      " Tamanho da Lista:  4 \n",
      "Soma dos valores: 2330 \n"
     ]
    }
   ],
   "source": [
    "x = teste(10, 100, 550, 1670)"
   ]
  },
  {
   "cell_type": "markdown",
   "id": "f070309d-fa39-4726-bac0-82ee65203f8e",
   "metadata": {},
   "source": [
    "# Programação Orientada a Objetos \n",
    "* POO é Baseada em Classes, no geral temos que referenciar algo do mundo real.\n",
    "* Objetos -> Caracteristicas.\n",
    "* Atributos -> Informações de dados na classe\n",
    "* Métodos -> Funções. "
   ]
  },
  {
   "cell_type": "code",
   "execution_count": 15,
   "id": "6b1fe3c3-16ea-46cf-8e14-c48b72022198",
   "metadata": {},
   "outputs": [],
   "source": [
    "class Login: \n",
    "    def __init__(self, nome, idade, rg):\n",
    "        self.nome = nome\n",
    "        self.idade = idade\n",
    "        self.rg = rg\n",
    "    \n",
    "    def retorna_nome(self):\n",
    "        return self.nome\n",
    "    def retorna_idade(self):\n",
    "        return self.idade"
   ]
  },
  {
   "cell_type": "code",
   "execution_count": 17,
   "id": "50a05058-6469-4826-9591-5c33aeb5c9c5",
   "metadata": {},
   "outputs": [],
   "source": [
    "usuario = Login('Guilherme', 29, 41926440-1)"
   ]
  },
  {
   "cell_type": "code",
   "execution_count": 19,
   "id": "af81d3e7-002c-4853-a1c3-398d3b72e0f0",
   "metadata": {},
   "outputs": [
    {
     "data": {
      "text/plain": [
       "'Guilherme'"
      ]
     },
     "execution_count": 19,
     "metadata": {},
     "output_type": "execute_result"
    }
   ],
   "source": [
    "usuario.retorna_nome()"
   ]
  },
  {
   "cell_type": "code",
   "execution_count": 21,
   "id": "9caf871e-3d88-4e79-87d1-788032dac57b",
   "metadata": {},
   "outputs": [
    {
     "data": {
      "text/plain": [
       "29"
      ]
     },
     "execution_count": 21,
     "metadata": {},
     "output_type": "execute_result"
    }
   ],
   "source": [
    "usuario.retorna_idade()"
   ]
  },
  {
   "cell_type": "code",
   "execution_count": 157,
   "id": "60e35c52-59a5-407d-8ddf-f3d6ddb94824",
   "metadata": {},
   "outputs": [],
   "source": [
    "class ContaBancaria:\n",
    "    def __init__(self, titular, saldo):\n",
    "        self.titular = titular \n",
    "        self.saldo = saldo\n",
    "    \n",
    "    def sacar(self, valor):\n",
    "        try: \n",
    "            if valor > self.saldo:\n",
    "\n",
    "                raise ValueError(\"Saldo Insuficiente para a operação\")\n",
    "                \n",
    "            else:\n",
    "                self.saldo -= valor\n",
    "                print(f'Saque de {valor} realizado com sucesso') \n",
    "                print(f'Seu saldo é de {self.saldo}')\n",
    "\n",
    "        except ValueError as e:\n",
    "            print(f\"Erro {e}\")\n",
    "    \n",
    "    def ver_saldo(self):\n",
    "        print(f'O Seu Saldo é de: {self.saldo}')    "
   ]
  },
  {
   "cell_type": "code",
   "execution_count": 159,
   "id": "5cf8f1c8-7abe-4d2c-b1c7-648a378acbdc",
   "metadata": {},
   "outputs": [],
   "source": [
    "user = ContaBancaria('Jose', 1500)"
   ]
  },
  {
   "cell_type": "code",
   "execution_count": 165,
   "id": "7bbbbcd1-609d-4041-8cf2-8bec044186a8",
   "metadata": {},
   "outputs": [
    {
     "name": "stdout",
     "output_type": "stream",
     "text": [
      "Saque de 100 realizado com sucesso\n",
      "Seu saldo é de 800\n",
      "O Seu Saldo é de: 800\n"
     ]
    }
   ],
   "source": [
    "user.sacar(100)\n",
    "user.ver_saldo()"
   ]
  },
  {
   "cell_type": "markdown",
   "id": "fc8d26c6-ff3a-4075-8a14-665ccc066172",
   "metadata": {},
   "source": [
    "# Função Assert\n",
    "* Realiza testes unitários\n",
    "* Verifica os parâmetros de entrada.\n",
    "* AssertionError -> Erro de Asserção. "
   ]
  },
  {
   "cell_type": "code",
   "execution_count": 80,
   "id": "44b7a09d-dbac-4a5a-8d76-b315d0e0a07c",
   "metadata": {},
   "outputs": [],
   "source": [
    "nome = \"José Guilherme\""
   ]
  },
  {
   "cell_type": "code",
   "execution_count": 82,
   "id": "9a449967-4ed3-4b67-9273-ce5ea77884ae",
   "metadata": {},
   "outputs": [
    {
     "ename": "AssertionError",
     "evalue": "Se o nome for diferente de João Guilherme irá aparecer este erro",
     "output_type": "error",
     "traceback": [
      "\u001b[0;31m---------------------------------------------------------------------------\u001b[0m",
      "\u001b[0;31mAssertionError\u001b[0m                            Traceback (most recent call last)",
      "Cell \u001b[0;32mIn[82], line 1\u001b[0m\n\u001b[0;32m----> 1\u001b[0m \u001b[38;5;28;01massert\u001b[39;00m nome \u001b[38;5;241m==\u001b[39m \u001b[38;5;124m'\u001b[39m\u001b[38;5;124mJoão Guilherme\u001b[39m\u001b[38;5;124m'\u001b[39m, \u001b[38;5;124m'\u001b[39m\u001b[38;5;124mSe o nome for diferente de João Guilherme irá aparecer este erro\u001b[39m\u001b[38;5;124m'\u001b[39m\n",
      "\u001b[0;31mAssertionError\u001b[0m: Se o nome for diferente de João Guilherme irá aparecer este erro"
     ]
    }
   ],
   "source": [
    "assert nome == 'João Guilherme', 'Se o nome for diferente de João Guilherme irá aparecer este erro'"
   ]
  },
  {
   "cell_type": "markdown",
   "id": "53cc4ee3-1c2c-4b6e-86f9-4a72ace85f92",
   "metadata": {},
   "source": [
    "# Try and Except \n",
    "* Tratamento de Erros\n",
    "* Tratamento de excessões individualmente.\n",
    "* Tratamento de Multiplas Exceções\n",
    "* Aplicação continua em funcionamento, o programa não deixa de funcionar.\n",
    "* Se o Try falhar, executa o Except\n",
    "* Utilizado em códigos sensiveis de aplicação."
   ]
  },
  {
   "cell_type": "code",
   "execution_count": 93,
   "id": "cb3e31dd-f88d-468d-a0ae-bc57f93a87d3",
   "metadata": {},
   "outputs": [
    {
     "name": "stdin",
     "output_type": "stream",
     "text": [
      "Insira um numero inteiro:  5.50\n"
     ]
    },
    {
     "name": "stdout",
     "output_type": "stream",
     "text": [
      "Não foi digitado um número válido\n"
     ]
    }
   ],
   "source": [
    "try: \n",
    "    num = int(input('Insira um numero inteiro: '))\n",
    "    print(f'O numero digitado foi: {num}') \n",
    "except: \n",
    "    print(\"Não foi digitado um número válido\")"
   ]
  },
  {
   "cell_type": "markdown",
   "id": "9045a0ec-fa37-4e63-9b28-f79db5b52139",
   "metadata": {},
   "source": [
    "## Resumo \n",
    "* O python irá executar um bloco de código dentro do Try e caso esse bloco de código aconteça algo não esperado é realizado a execução do bloco de código do except.\n",
    "* O except garante que o código continue rodando mesmo que haja algum erro."
   ]
  },
  {
   "cell_type": "markdown",
   "id": "767b10b9-753e-462d-bcd3-c6c3988863da",
   "metadata": {},
   "source": [
    "# Programação Funcional \n",
    "* Estruturar a Aplicação em Funções.\n",
    "* Cada tarefa pode ter uma ou mais funções.\n",
    "* Cria as funções e utilize para que o código funcione. "
   ]
  },
  {
   "cell_type": "markdown",
   "id": "8484b30b-9740-4b41-8023-56d55b98410a",
   "metadata": {},
   "source": [
    "# Função Pura \n",
    "* Não há alteração de conteudo. Sempre devolve os valores das entradas.\n",
    "* Trabalha com aplicação, mas ela não altera o estado da aplicação, regular, não tem quebra."
   ]
  },
  {
   "cell_type": "markdown",
   "id": "d37f5074-d4d0-4f9a-8ce8-edc97b18ce04",
   "metadata": {},
   "source": [
    "# Função Impura \n",
    "* Situações indesejadas, quando estamos utilizando paradigma funcional. \n",
    "* Uma Função que utiliza algum estado da aplicação e faz com que o resultado seja sempre alterado, independente de executarmos sempre com o mesmo valor.\n",
    "* Alterando o estado da aplicação, normalmente variável global ou algo relacionado a conteudo da função é alterado. Quebrando o funcionamento do sistema."
   ]
  },
  {
   "cell_type": "markdown",
   "id": "29f08975-d291-4297-9fc2-810d3251b338",
   "metadata": {},
   "source": [
    "# Composição de Funções \n",
    "* É quando temos uma função dentro da outra, empilhando as funções."
   ]
  },
  {
   "cell_type": "code",
   "execution_count": 254,
   "id": "6a743d74-30fd-473b-81ee-bc6316cd320c",
   "metadata": {},
   "outputs": [],
   "source": [
    "lista1 = ['José Guilherme', 'Pedro', 'Angelica', 'Sarah', 22]"
   ]
  },
  {
   "cell_type": "code",
   "execution_count": 256,
   "id": "50e486b2-966a-4d06-a959-f6eec67b3433",
   "metadata": {},
   "outputs": [],
   "source": [
    "def lista(lista):\n",
    "    return True if 22 in lista else False"
   ]
  },
  {
   "cell_type": "code",
   "execution_count": 258,
   "id": "69430e35-ab2c-4591-b050-02cd43a3aba9",
   "metadata": {},
   "outputs": [],
   "source": [
    "resposta = lista(lista1)"
   ]
  },
  {
   "cell_type": "code",
   "execution_count": 260,
   "id": "50854c5b-6b5c-4886-bff8-09517a112e55",
   "metadata": {},
   "outputs": [
    {
     "data": {
      "text/plain": [
       "True"
      ]
     },
     "execution_count": 260,
     "metadata": {},
     "output_type": "execute_result"
    }
   ],
   "source": [
    "resposta"
   ]
  },
  {
   "cell_type": "markdown",
   "id": "9390b2be-625c-4966-9447-9e2834681f60",
   "metadata": {},
   "source": [
    "# Função Filter \n",
    "* Para filtrar ou separar os dados dos quais precisa.\n",
    "* Filter(função, iteravel)\n",
    "* item for item in interable if function(item) -> Equivale a função filter.\n",
    "* Utilizado em separações simples\n",
    "* Somente Utilizado em True ou False\n",
    "* Executa a função em cada elemento da lista.\n",
    "* Não Inclui colocar parâmetro nas funções, pois o filter só precisa do objeto função."
   ]
  },
  {
   "cell_type": "code",
   "execution_count": 271,
   "id": "f8ecaaf1-87ad-480a-b83e-7a232afbee76",
   "metadata": {},
   "outputs": [],
   "source": [
    "numeros = [1, 2, 3, 4, 5, 6, 7, 8, 9, 10] "
   ]
  },
  {
   "cell_type": "code",
   "execution_count": 273,
   "id": "e2c17378-9bd6-451f-9b7e-f6430b2aee49",
   "metadata": {},
   "outputs": [],
   "source": [
    "def e_par(lista):\n",
    "    return lista % 2 == 0"
   ]
  },
  {
   "cell_type": "code",
   "execution_count": 279,
   "id": "3f8703bc-75a1-4850-bf3d-2ea03016c0c2",
   "metadata": {},
   "outputs": [],
   "source": [
    "# Numeros pares é uma variavel, 'list' converte o resultado para uma lista. \n",
    "# filter recebe a funcao e_par e a lista numeros, e executa a função em cada numero da lista. \n",
    "numeros_pares = list(filter(e_par, numeros))"
   ]
  },
  {
   "cell_type": "code",
   "execution_count": 277,
   "id": "4f10fdc6-3d5f-48d4-ad34-db8b2ba13aa1",
   "metadata": {},
   "outputs": [
    {
     "data": {
      "text/plain": [
       "[2, 4, 6, 8, 10]"
      ]
     },
     "execution_count": 277,
     "metadata": {},
     "output_type": "execute_result"
    }
   ],
   "source": [
    "numeros_pares"
   ]
  },
  {
   "cell_type": "markdown",
   "id": "e3daa323-0270-4975-8e37-a28b9288dd69",
   "metadata": {},
   "source": [
    "# Função Map\n",
    "* map(função, iteravel) \n",
    "* Irá executar cada iteravel na função e retornar um resultado. \n",
    "* Transformar todos os elementos do meu container. "
   ]
  },
  {
   "cell_type": "code",
   "execution_count": 328,
   "id": "9a7ecaab-9e57-47a2-801e-da5f9552501e",
   "metadata": {},
   "outputs": [],
   "source": [
    "alunos = [\n",
    "    'gui@outlook.com',\n",
    "    'bruno@hotmail.com.br',\n",
    "    'jose@outlook.com.br',\n",
    "    'alessandra@yahoo.com',\n",
    "    'bruninha@yahoo.com.br',\n",
    "    'jose-guilherme@hotmail.com',\n",
    "    'guizerah@gmail.com',\n",
    "    'pablo@google.com.br',\n",
    "    'gui@gmail.com'] "
   ]
  },
  {
   "cell_type": "code",
   "execution_count": 338,
   "id": "efd51eb9-a000-45e6-9ff6-52136064dff2",
   "metadata": {},
   "outputs": [],
   "source": [
    "# Aqui uma função para achar o index que contém o @ contar a partir dele para trazermos apenas o endereço\n",
    "# Utilizando os conceitos Apresentados no começo de fatiamento de strings.\n",
    "def endereco(lista):\n",
    "    return lista[lista.index('@')+1::] "
   ]
  },
  {
   "cell_type": "code",
   "execution_count": 349,
   "id": "45cd71b2-f56e-47c5-ba33-1c1af058cbb8",
   "metadata": {},
   "outputs": [
    {
     "data": {
      "text/plain": [
       "['outlook.com',\n",
       " 'hotmail.com.br',\n",
       " 'outlook.com.br',\n",
       " 'yahoo.com',\n",
       " 'yahoo.com.br',\n",
       " 'hotmail.com',\n",
       " 'gmail.com',\n",
       " 'google.com.br',\n",
       " 'gmail.com']"
      ]
     },
     "execution_count": 349,
     "metadata": {},
     "output_type": "execute_result"
    }
   ],
   "source": [
    "# Variavel x informo que é uma lista com o \"list\" e dentro da função map, passo a função a ser executada \"endereco\" e a a lista \"alunos\"\n",
    "x = list(map(endereco, alunos))\n",
    "x"
   ]
  },
  {
   "cell_type": "markdown",
   "id": "94b7ef6c-2870-43e2-902c-56518122dfdd",
   "metadata": {},
   "source": [
    "# Funções Aninhadas \n",
    "* Uma função aninhada ou nested function é uma função que declaramos dentro de outra função.\n",
    "* Funcionalidades: Evitar o uso de variáveis globais encapsular (proteger) dados de uma função, Criar Helper Functions que auxiliará no reuso do código.\n",
    "* Utilizar decorators em Python\n",
    "* Utilizar POO sem criar classes."
   ]
  },
  {
   "cell_type": "code",
   "execution_count": 463,
   "id": "0316d549-bdb9-4d42-b6c6-42ffed9b3d2a",
   "metadata": {},
   "outputs": [],
   "source": [
    "def conta_bancaria(saldoinicial):\n",
    "    saldo = saldoinicial\n",
    "\n",
    "    def ver_saldo():\n",
    "        return f'Seu saldo é de {saldo}'\n",
    "\n",
    "    def depositar(valor):\n",
    "        nonlocal saldo # Permite modificar o saldo da função externa\n",
    "        if valor > 0:\n",
    "            saldo += valor\n",
    "            return f'Deposito de R${valor} Realizado com Sucesso'\n",
    "        else: \n",
    "            return 'Saldo Insuficiente ou valor invalido'\n",
    "    def sacar(valor):\n",
    "        nonlocal saldo\n",
    "        if 0 < valor <= saldo:\n",
    "            saldo -= valor\n",
    "            return f'Saldo de R${valor} realizado com sucesso!'\n",
    "        else:\n",
    "            return 'Saldo Insuficiente ou valor Invalido'\n",
    "\n",
    "    return ver_saldo, depositar, sacar"
   ]
  },
  {
   "cell_type": "code",
   "execution_count": 465,
   "id": "ceb5c1f6-d284-415c-b978-87c9cc17c6aa",
   "metadata": {},
   "outputs": [],
   "source": [
    "ver_saldo, depositar, sacar = conta_bancaria(500)"
   ]
  },
  {
   "cell_type": "code",
   "execution_count": 467,
   "id": "451bdd44-b093-49fd-988a-4fb640e501d1",
   "metadata": {},
   "outputs": [
    {
     "name": "stdout",
     "output_type": "stream",
     "text": [
      "Saldo de R$50 realizado com sucesso!\n"
     ]
    }
   ],
   "source": [
    "print(sacar(50))"
   ]
  },
  {
   "cell_type": "code",
   "execution_count": 469,
   "id": "5a853428-b969-49bb-9234-cb64e008b9bb",
   "metadata": {},
   "outputs": [
    {
     "name": "stdout",
     "output_type": "stream",
     "text": [
      "Seu saldo é de 450\n"
     ]
    }
   ],
   "source": [
    "print(ver_saldo())"
   ]
  },
  {
   "cell_type": "markdown",
   "id": "f937caef-d784-4301-a645-6377c53777b0",
   "metadata": {},
   "source": [
    "# Função LAMBDA\n",
    "* Função Anônima(lambda) não possuem nome, são pequenas(geralmente única linha. Assim que são executadas é excluida da memória. Geralmente usada com as funções map e filter.\n",
    "* Diminuir o código -> Deve ter apenas uma linha em python.\n",
    "* São coisas que você não precisará executar novamente. "
   ]
  },
  {
   "cell_type": "code",
   "execution_count": 476,
   "id": "17961314-0866-4fa1-b684-82c44f9471f5",
   "metadata": {},
   "outputs": [],
   "source": [
    "lista = ['31/03/1995', '24/09/1992', '07/11/1972', '29/06/1976']"
   ]
  },
  {
   "cell_type": "code",
   "execution_count": 504,
   "id": "bea3b10d-2d1b-4798-8379-98da1567c93a",
   "metadata": {},
   "outputs": [],
   "source": [
    "# Aqui criamos uma variavel \"meses\" que é uma lista \"list\" utilizamos a função map e dentro dela criamos uma função anonima\n",
    "# que o primeiro elemento é o que eu desejo que retorne, e depois dos \":\" a condição. e dpois da virgula o iteravem. \n",
    "meses = list(map(lambda mes: mes[3:5], lista))"
   ]
  },
  {
   "cell_type": "code",
   "execution_count": 506,
   "id": "bf0253bd-eec4-4135-8171-17f52bdeba23",
   "metadata": {},
   "outputs": [
    {
     "data": {
      "text/plain": [
       "['03', '09', '11', '06']"
      ]
     },
     "execution_count": 506,
     "metadata": {},
     "output_type": "execute_result"
    }
   ],
   "source": [
    "meses"
   ]
  },
  {
   "cell_type": "code",
   "execution_count": 498,
   "id": "f9eab915-4887-4a08-bf7d-f770f6a9b1eb",
   "metadata": {},
   "outputs": [],
   "source": [
    "nome = ['Jose', 'Sarah', 'Angelica', 'Pipi', 'Teste'] \n",
    "sobrenome = ['Guilherme', 'Mello', 'Santos', 'Maloca', 'zé'] "
   ]
  },
  {
   "cell_type": "code",
   "execution_count": 508,
   "id": "b6b5756a-ed11-4061-964b-53888272c16d",
   "metadata": {},
   "outputs": [],
   "source": [
    "# Aqui utilizamos dois elementos dentro da lambda onde quero que retorne n e s  que representa nome e sobrenome\n",
    "# apos os \":\" coloco o que a função debe realizar e depois passo os iteraveis que pode ser mais de um, mas as condições devem se satisfazerem.\n",
    "nome_completo = list(map(lambda n, s: n + ' ' + s, nome, sobrenome))"
   ]
  },
  {
   "cell_type": "code",
   "execution_count": 510,
   "id": "fe098dce-26ba-42d7-ba25-da64ab5e04e3",
   "metadata": {},
   "outputs": [
    {
     "data": {
      "text/plain": [
       "['Jose Guilherme', 'Sarah Mello', 'Angelica Santos', 'Pipi Maloca', 'Teste zé']"
      ]
     },
     "execution_count": 510,
     "metadata": {},
     "output_type": "execute_result"
    }
   ],
   "source": [
    "nome_completo"
   ]
  },
  {
   "cell_type": "code",
   "execution_count": 514,
   "id": "d82179c9-14b1-47cd-9213-48ed4033032e",
   "metadata": {},
   "outputs": [],
   "source": [
    "users = [\n",
    "    {'id':1, 'name': 'José', 'email': 'guizerah@hotmail.com'},\n",
    "    {'id':2, 'name': 'Pedro', 'email': 'pedrox@hotmail.com'},\n",
    "    {'id':3, 'name': 'Ana', 'email': 'Ana@hotmail.com'},\n",
    "    {'id':4, 'name': 'Bruna', 'email': 'Bruna@hotmail.com'}] \n",
    "ids = [1,2] "
   ]
  },
  {
   "cell_type": "code",
   "execution_count": 516,
   "id": "1597afb9-47f2-4999-b1cb-721a9347229a",
   "metadata": {},
   "outputs": [],
   "source": [
    "new_list = list(filter(lambda user: True if user['id'] in ids else False, users))"
   ]
  },
  {
   "cell_type": "code",
   "execution_count": 520,
   "id": "0f8fbf58-8808-4acc-b1a0-afb72d05631e",
   "metadata": {},
   "outputs": [
    {
     "data": {
      "text/plain": [
       "[{'id': 1, 'name': 'José', 'email': 'guizerah@hotmail.com'},\n",
       " {'id': 2, 'name': 'Pedro', 'email': 'pedrox@hotmail.com'}]"
      ]
     },
     "execution_count": 520,
     "metadata": {},
     "output_type": "execute_result"
    }
   ],
   "source": [
    "new_list"
   ]
  },
  {
   "cell_type": "markdown",
   "id": "7aff99ca-34e1-460c-9566-fe1cf54084e1",
   "metadata": {},
   "source": [
    "# Função Set \n",
    "* Set retorna valores únicos."
   ]
  },
  {
   "cell_type": "code",
   "execution_count": 549,
   "id": "3e9627a1-c4fd-4a9b-9a93-32c1b270f813",
   "metadata": {},
   "outputs": [],
   "source": [
    "lista = [1,1,2,2,3,3,4,4,5,5,6,6,7,7,8,8,9,9,10]\n",
    "lista2 = ['Jose', 'Guilherme', 'Jose', 'Angelica', 10, 53, 'Angelica', 'Pipi'] "
   ]
  },
  {
   "cell_type": "code",
   "execution_count": 551,
   "id": "a67272a1-685c-49d6-a400-896f1aa56145",
   "metadata": {},
   "outputs": [],
   "source": [
    "unicos = set(lista)\n",
    "unicos2 = set(lista2)"
   ]
  },
  {
   "cell_type": "code",
   "execution_count": 553,
   "id": "1f6c5c94-26e9-4a84-a001-3c77f62eb936",
   "metadata": {},
   "outputs": [
    {
     "data": {
      "text/plain": [
       "{1, 2, 3, 4, 5, 6, 7, 8, 9, 10}"
      ]
     },
     "execution_count": 553,
     "metadata": {},
     "output_type": "execute_result"
    }
   ],
   "source": [
    "unicos"
   ]
  },
  {
   "cell_type": "code",
   "execution_count": 555,
   "id": "39c7173a-e41f-45bf-ba23-778a89455c88",
   "metadata": {},
   "outputs": [
    {
     "data": {
      "text/plain": [
       "{10, 53, 'Angelica', 'Guilherme', 'Jose', 'Pipi'}"
      ]
     },
     "execution_count": 555,
     "metadata": {},
     "output_type": "execute_result"
    }
   ],
   "source": [
    "unicos2"
   ]
  },
  {
   "cell_type": "markdown",
   "id": "d49a02b6-6800-49ab-b9b9-3f12829b0e24",
   "metadata": {},
   "source": [
    "# Slices \n",
    "* Fatias, seleção de estruturas, strings, listas, tuplas.\n",
    "* Conceito muito utilizado na biblioteca Pandas\n",
    "* Pode utilizar como na função range(1:4:2) start, stop e step."
   ]
  },
  {
   "cell_type": "code",
   "execution_count": 558,
   "id": "ecd9c987-3b44-47a2-8dcd-90381349247b",
   "metadata": {},
   "outputs": [],
   "source": [
    "lista = [{'nome': 'José', 'idade': 29, 'height': 1.75}, {'nome': 'Pedro', 'idade': 39, 'height': 1.75}, {'nome': 'Maria', 'idade': 10, 'height': 1.54}, {'nome': 'Bruno', 'idade': 8, 'height': 1.75}, {'nome': 'angela', 'idade': 90, 'height': 1.75}]"
   ]
  },
  {
   "cell_type": "code",
   "execution_count": 566,
   "id": "9ea8add7-5542-492f-acb8-f3be8f0d085c",
   "metadata": {},
   "outputs": [
    {
     "data": {
      "text/plain": [
       "{'nome': 'Maria', 'idade': 10, 'height': 1.54}"
      ]
     },
     "execution_count": 566,
     "metadata": {},
     "output_type": "execute_result"
    }
   ],
   "source": [
    "# Podemos retornar um item da lista utilizando o index de 0 até o tamanho da lista\n",
    "lista[2]"
   ]
  },
  {
   "cell_type": "code",
   "execution_count": 568,
   "id": "1cd38c5f-d11c-49e1-b920-71fedff6632a",
   "metadata": {},
   "outputs": [],
   "source": [
    "email = ['guilherasasame@gmail.com.br', \n",
    "         'gui@youtube.com', \n",
    "         'bruno@lala.com.br', \n",
    "         'lala@popo.gov.br',\n",
    "         'brasil@gov.br.com',\n",
    "         'asa@gmail.com.br',\n",
    "         'lala@youtube.com.br']"
   ]
  },
  {
   "cell_type": "code",
   "execution_count": 572,
   "id": "aa0b4b85-3486-4077-a45a-d427c71906c3",
   "metadata": {},
   "outputs": [],
   "source": [
    "# Acima temos uma lista com alguns emails e queremos extrair somente os provedores. \n",
    "provedores = [] \n",
    "# index in email -> O index apenas para nomearmos cada item da lista.\n",
    "# provedores.append -> para adicionrmos dentro de provedores o que desejamos.\n",
    "# provedor[provedor.index(\"@\")+1 -> aqui queremos achar o index ou seja o local onde está localizado o \"@\"  e colocamos +1.\n",
    "# : até o final : sem step ou seja sem pular. \n",
    "for provedor in email:\n",
    "    provedores.append(provedor[provedor.index(\"@\")+1::]) "
   ]
  },
  {
   "cell_type": "code",
   "execution_count": 574,
   "id": "e5197985-cfe0-4903-92ef-b5538e09d51e",
   "metadata": {},
   "outputs": [
    {
     "data": {
      "text/plain": [
       "['gmail.com.br',\n",
       " 'youtube.com',\n",
       " 'lala.com.br',\n",
       " 'popo.gov.br',\n",
       " 'gov.br.com',\n",
       " 'gmail.com.br',\n",
       " 'youtube.com.br']"
      ]
     },
     "execution_count": 574,
     "metadata": {},
     "output_type": "execute_result"
    }
   ],
   "source": [
    "provedores"
   ]
  },
  {
   "cell_type": "code",
   "execution_count": 576,
   "id": "fb0c6932-f312-404f-872c-af1b50132c08",
   "metadata": {},
   "outputs": [
    {
     "data": {
      "text/plain": [
       "{'gmail.com.br',\n",
       " 'gov.br.com',\n",
       " 'lala.com.br',\n",
       " 'popo.gov.br',\n",
       " 'youtube.com',\n",
       " 'youtube.com.br'}"
      ]
     },
     "execution_count": 576,
     "metadata": {},
     "output_type": "execute_result"
    }
   ],
   "source": [
    "set(provedores)"
   ]
  },
  {
   "cell_type": "markdown",
   "id": "3d54a151-bc9b-4c09-9fcf-97f32d7a3f55",
   "metadata": {},
   "source": [
    "# Comprehesions \n",
    "* Técnicas de criar estruturas de Dados simples, listas, Dicionarios\n",
    "* Mais rápido do que o \"for\"\n",
    "* Muito utilizada na comunidade python e também no mundo dos dados.\n",
    "* Criar uma lista com base em um objeto iterável."
   ]
  },
  {
   "cell_type": "code",
   "execution_count": 580,
   "id": "fdcedebc-fbb1-4069-8cf9-9b1f21787c9a",
   "metadata": {},
   "outputs": [],
   "source": [
    "clientes = [\n",
    "    {'nome': 'Joao', 'idade': 32, 'casado': True},\n",
    "    {'nome': 'Paula', 'idade': 18, 'casado': False},\n",
    "    {'nome': 'Ana', 'idade': 41, 'casado': True},\n",
    "    {'nome': 'Ale', 'idade': 32, 'casado': True},\n",
    "    {'nome': 'Bruno', 'idade': 17, 'casado': False},\n",
    "    {'nome': 'Jose', 'idade': 25, 'casado': False}  ]"
   ]
  },
  {
   "cell_type": "code",
   "execution_count": 582,
   "id": "f3e02439-40d1-4f62-b873-6ce04ab823f3",
   "metadata": {},
   "outputs": [],
   "source": [
    "clientes_casados = [cliente for cliente in clientes if cliente['casado'] == True] "
   ]
  },
  {
   "cell_type": "code",
   "execution_count": 584,
   "id": "1a65d722-aadc-4681-9c1b-6b68d011edbb",
   "metadata": {},
   "outputs": [
    {
     "data": {
      "text/plain": [
       "[{'nome': 'Joao', 'idade': 32, 'casado': True},\n",
       " {'nome': 'Ana', 'idade': 41, 'casado': True},\n",
       " {'nome': 'Ale', 'idade': 32, 'casado': True}]"
      ]
     },
     "execution_count": 584,
     "metadata": {},
     "output_type": "execute_result"
    }
   ],
   "source": [
    "clientes_casados"
   ]
  },
  {
   "cell_type": "code",
   "execution_count": 586,
   "id": "6b87caba-c642-46c0-a458-5c02f5f151b1",
   "metadata": {},
   "outputs": [],
   "source": [
    "cliente_init_A = [cliente for cliente in clientes if cliente['nome'][0] == 'A'] "
   ]
  },
  {
   "cell_type": "code",
   "execution_count": 588,
   "id": "a007ed9f-9d8e-403f-9cf5-12d73b3f26ad",
   "metadata": {},
   "outputs": [
    {
     "data": {
      "text/plain": [
       "[{'nome': 'Ana', 'idade': 41, 'casado': True},\n",
       " {'nome': 'Ale', 'idade': 32, 'casado': True}]"
      ]
     },
     "execution_count": 588,
     "metadata": {},
     "output_type": "execute_result"
    }
   ],
   "source": [
    "cliente_init_A"
   ]
  },
  {
   "cell_type": "code",
   "execution_count": 1,
   "id": "f09c8267-b8e2-448c-b7f2-ac970374a5fd",
   "metadata": {},
   "outputs": [],
   "source": [
    "clientes = [\n",
    "    {'nome': 'Joao', 'idade': 32, 'casado': True},\n",
    "    {'nome': 'Paula', 'idade': 18, 'casado': False},\n",
    "    {'nome': 'Ana', 'idade': 41, 'casado': True},\n",
    "    {'nome': 'Ale', 'idade': 32, 'casado': True},\n",
    "    {'nome': 'Bruno', 'idade': 17, 'casado': False},\n",
    "    {'nome': 'Jose', 'idade': 25, 'casado': False}  ]"
   ]
  },
  {
   "cell_type": "markdown",
   "id": "89c7042b-4a9b-4643-87b7-85e88b149844",
   "metadata": {},
   "source": [
    "# Variável Global \n",
    "* Pode ser usada em qualquer parte do código."
   ]
  },
  {
   "cell_type": "code",
   "execution_count": 27,
   "id": "beaae341-f0fd-4cf6-a5bf-3f04b0f5ed77",
   "metadata": {},
   "outputs": [],
   "source": [
    "# Aqui a variavel está declarada e ela pode estar em qualquer local do código. \n",
    "nome = 'José Guilherme'"
   ]
  },
  {
   "cell_type": "markdown",
   "id": "6e0c7b28-4c14-4369-9e1b-6c9e4c19715a",
   "metadata": {},
   "source": [
    "# Variável Local\n",
    "* Utilizada dentro de uma função, classe, somente utilizada dentro da função especifica.\n",
    "* Tem prioridade sobre a global, pois a prioridade é a local. "
   ]
  },
  {
   "cell_type": "code",
   "execution_count": 35,
   "id": "83d7a4cc-51bf-4693-89e2-d43b1809118f",
   "metadata": {},
   "outputs": [],
   "source": [
    "# Aqui temos a variavel \"resultado\" que é local pois está dentro da função. \n",
    "def somar(x, y):\n",
    "    resultado = x + y \n",
    "    print(f'Resultado total = {resultado}')\n",
    "    # Se eu quiser modificar a variavel global temos que informar como no exemplo abaixo:\n",
    "    global nome\n",
    "    nome = 'Guilherme dos Santos'"
   ]
  },
  {
   "cell_type": "code",
   "execution_count": 37,
   "id": "2f18c831-ee91-4e6f-85b4-634e8483d76b",
   "metadata": {},
   "outputs": [
    {
     "name": "stdout",
     "output_type": "stream",
     "text": [
      "Resultado total = 30\n"
     ]
    }
   ],
   "source": [
    "somar(10, 20)"
   ]
  },
  {
   "cell_type": "code",
   "execution_count": null,
   "id": "ede0e7f8-c98e-43c7-ba78-660a381500db",
   "metadata": {},
   "outputs": [],
   "source": []
  },
  {
   "cell_type": "code",
   "execution_count": 41,
   "id": "00287e8d-61d9-46cd-a6d0-8ae12458d3a8",
   "metadata": {},
   "outputs": [
    {
     "data": {
      "text/plain": [
       "'Guilherme dos Santos'"
      ]
     },
     "execution_count": 41,
     "metadata": {},
     "output_type": "execute_result"
    }
   ],
   "source": [
    "# Aqui podemos ver que a variavel nome em cima antes \"José Guilherme\" foi alterada para o nome abaixo.\n",
    "nome"
   ]
  },
  {
   "cell_type": "markdown",
   "id": "a8c9e3ec-235e-47be-8de0-9046ae4488b4",
   "metadata": {},
   "source": [
    "# Módulo\n",
    "* Um único arquivo em python\n",
    "* Diversas funções dentro deste arquivo python.\n",
    "* sempre verificar as pastas e o caminho.\n",
    "* também posso apelidar meu módulo do jeito que fica mais fácil para mim. "
   ]
  },
  {
   "cell_type": "code",
   "execution_count": 59,
   "id": "03967a78-f268-4f36-ba1a-ba525c07fbf8",
   "metadata": {},
   "outputs": [],
   "source": [
    "# Criei um arquivo .py com funções de somar, subtrair, multiplicar e dividir. \n",
    "# Posso chamar essas funções com o * ou somente a que eu precisar.\n",
    "from funcoes import somar\n",
    "from funcoes import *"
   ]
  },
  {
   "cell_type": "code",
   "execution_count": 72,
   "id": "4bd577bc-9149-4f41-96df-610274049b74",
   "metadata": {},
   "outputs": [
    {
     "name": "stdout",
     "output_type": "stream",
     "text": [
      "30\n",
      "400\n",
      "50.0\n",
      "1\n"
     ]
    }
   ],
   "source": [
    "print(somar(10,20))\n",
    "print(multiplicar(20, 20))\n",
    "print(dividir(1000, 20))\n",
    "print(subtrair(200, 199))"
   ]
  },
  {
   "cell_type": "markdown",
   "id": "8e9aa423-e6be-4e0b-96af-1de74c85f8c5",
   "metadata": {},
   "source": [
    "# Pacotes \n",
    "* Pasta com os módulos cada pasta pode ter diversos modulos com diversas funções.\n",
    "* Como importar ? import \"nomepacote\".\"nomedomodulo\".py\n",
    "* Tem que ter um arquivo __init__.py para os modulos ser caracterizado um pacote, o arquivo pode estar vázio.\n",
    "* Dentro do init colocar os módulos que você precisa."
   ]
  },
  {
   "cell_type": "code",
   "execution_count": 115,
   "id": "b7c28736-5988-4aa8-b4e4-3db164a4baf1",
   "metadata": {},
   "outputs": [],
   "source": [
    "import pacotes.lernumeros as ler"
   ]
  },
  {
   "cell_type": "code",
   "execution_count": 119,
   "id": "790e40ca-6b9c-4795-868c-7be49b7d324f",
   "metadata": {},
   "outputs": [
    {
     "name": "stdin",
     "output_type": "stream",
     "text": [
      "Insira um numero inteiro:  10\n",
      "Insira outro número inteiro:  20\n"
     ]
    },
    {
     "name": "stdout",
     "output_type": "stream",
     "text": [
      "Os números digitados foram: 10 e 20\n"
     ]
    }
   ],
   "source": [
    "ler.lernumeros()"
   ]
  },
  {
   "cell_type": "code",
   "execution_count": 121,
   "id": "d43ebcd6-fe00-428b-b492-e58b8c1b7273",
   "metadata": {},
   "outputs": [],
   "source": [
    "import pacotes.calculadora as cal"
   ]
  },
  {
   "cell_type": "code",
   "execution_count": 125,
   "id": "2cb3df1e-b415-4e88-ba47-d7d72564b22b",
   "metadata": {},
   "outputs": [
    {
     "name": "stdout",
     "output_type": "stream",
     "text": [
      "Resultado da soma 50\n",
      "Resultado da Multiplicação 400\n"
     ]
    }
   ],
   "source": [
    "cal.somar(20, 30)\n",
    "cal.multiplicar(20, 20)"
   ]
  },
  {
   "cell_type": "markdown",
   "id": "1bdeb309-c1b5-4e76-b5cf-8802ba5ea31b",
   "metadata": {},
   "source": [
    "# Bibliotecas \n",
    "* Conjunto de Módulos e Pacotes."
   ]
  },
  {
   "cell_type": "code",
   "execution_count": null,
   "id": "ff51d773-94ba-4968-9205-981c774f38e1",
   "metadata": {},
   "outputs": [],
   "source": []
  }
 ],
 "metadata": {
  "kernelspec": {
   "display_name": "Python 3 (ipykernel)",
   "language": "python",
   "name": "python3"
  },
  "language_info": {
   "codemirror_mode": {
    "name": "ipython",
    "version": 3
   },
   "file_extension": ".py",
   "mimetype": "text/x-python",
   "name": "python",
   "nbconvert_exporter": "python",
   "pygments_lexer": "ipython3",
   "version": "3.9.12"
  }
 },
 "nbformat": 4,
 "nbformat_minor": 5
}
